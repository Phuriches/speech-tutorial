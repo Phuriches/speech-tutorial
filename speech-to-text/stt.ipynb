{
 "cells": [
  {
   "attachments": {},
   "cell_type": "markdown",
   "metadata": {},
   "source": [
    "Speech-to-Text (ASR) tutorial\n",
    "\n",
    "- This notebook aims to study the different in each speech-to-text model.\n",
    "\n",
    "list of the advanced models:\n",
    "- Whisper\n",
    "- DeepSpeech\n",
    "- Jasper\n",
    "- QuartzNet"
   ]
  }
 ],
 "metadata": {
  "language_info": {
   "name": "python"
  },
  "orig_nbformat": 4
 },
 "nbformat": 4,
 "nbformat_minor": 2
}
